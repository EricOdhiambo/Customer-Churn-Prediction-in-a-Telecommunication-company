{
  "nbformat": 4,
  "nbformat_minor": 0,
  "metadata": {
    "colab": {
      "provenance": [],
      "authorship_tag": "ABX9TyM2bj1WrhbfmjJK8q3kzdj2",
      "include_colab_link": true
    },
    "kernelspec": {
      "name": "python3",
      "display_name": "Python 3"
    },
    "language_info": {
      "name": "python"
    }
  },
  "cells": [
    {
      "cell_type": "markdown",
      "metadata": {
        "id": "view-in-github",
        "colab_type": "text"
      },
      "source": [
        "<a href=\"https://colab.research.google.com/github/EricOdhiambo/Customer-Churn-Prediction-in-a-Telecommunication-company/blob/main/customer_churn.ipynb\" target=\"_parent\"><img src=\"https://colab.research.google.com/assets/colab-badge.svg\" alt=\"Open In Colab\"/></a>"
      ]
    },
    {
      "cell_type": "markdown",
      "source": [
        "# Predict Customer Churn"
      ],
      "metadata": {
        "id": "CbjSeUD2WVNM"
      }
    },
    {
      "cell_type": "markdown",
      "source": [
        "This project is aimed at identifying customers that are susceptible to churn in order to enhance retention strategies and boost business growth."
      ],
      "metadata": {
        "id": "PqD8tPtXWjtC"
      }
    },
    {
      "cell_type": "markdown",
      "source": [
        "Import packages and dependencies"
      ],
      "metadata": {
        "id": "AmoSwNO3HbNE"
      }
    },
    {
      "cell_type": "code",
      "execution_count": 6,
      "metadata": {
        "id": "FKmXkNPXZ3p9"
      },
      "outputs": [],
      "source": [
        "import pandas as pd #package to allow manipulation of data in table form\n",
        "import numpy as np #for mathematical computations\n",
        "import matplotlib.pyplot as plt #for plotting visualizations\n",
        "import seaborn as sns\n",
        "from ast import literal_eval #function in python that allows us to perform computation on a string\n",
        "from sklearn.metrics import accuracy_score, precision_score, recall_score, f1_score, confusion_matrix, ConfusionMatrixDisplay\n",
        "from sklearn.model_selection import train_test_split\n",
        "from sklearn.linear_model import LogisticRegression\n",
        "from sklearn.preprocessing import StandardScaler, MinMaxScaler\n",
        "from sklearn.tree import DecisionTreeClassifier\n",
        "from tqdm import tqdm\n"
      ]
    },
    {
      "cell_type": "code",
      "source": [
        "\n",
        "import warnings\n",
        "warnings.filterwarnings('ignore')"
      ],
      "metadata": {
        "id": "JS0osXODjQC0"
      },
      "execution_count": 7,
      "outputs": []
    },
    {
      "cell_type": "code",
      "source": [],
      "metadata": {
        "id": "02hqDaaTYaAg"
      },
      "execution_count": null,
      "outputs": []
    }
  ]
}