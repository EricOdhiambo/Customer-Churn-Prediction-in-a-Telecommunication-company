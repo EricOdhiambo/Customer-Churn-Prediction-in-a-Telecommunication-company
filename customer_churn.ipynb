{
  "nbformat": 4,
  "nbformat_minor": 0,
  "metadata": {
    "colab": {
      "provenance": [],
      "mount_file_id": "1Q0bUPM-p5i5iP2GaVlXLRSRkm3QMn4Me",
      "authorship_tag": "ABX9TyO5agYncbn8T1DgslWKiqjH",
      "include_colab_link": true
    },
    "kernelspec": {
      "name": "python3",
      "display_name": "Python 3"
    },
    "language_info": {
      "name": "python"
    }
  },
  "cells": [
    {
      "cell_type": "markdown",
      "metadata": {
        "id": "view-in-github",
        "colab_type": "text"
      },
      "source": [
        "<a href=\"https://colab.research.google.com/github/EricOdhiambo/Customer-Churn-Prediction-in-a-Telecommunication-company/blob/main/customer_churn.ipynb\" target=\"_parent\"><img src=\"https://colab.research.google.com/assets/colab-badge.svg\" alt=\"Open In Colab\"/></a>"
      ]
    },
    {
      "cell_type": "markdown",
      "source": [
        "# Predict Customer Churn"
      ],
      "metadata": {
        "id": "CbjSeUD2WVNM"
      }
    },
    {
      "cell_type": "markdown",
      "source": [
        "This project is aimed at identifying customers that are susceptible to churn in order to enhance retention strategies and boost business growth."
      ],
      "metadata": {
        "id": "PqD8tPtXWjtC"
      }
    },
    {
      "cell_type": "markdown",
      "source": [
        "### Import packages and dependencies"
      ],
      "metadata": {
        "id": "AmoSwNO3HbNE"
      }
    },
    {
      "cell_type": "code",
      "execution_count": 1,
      "metadata": {
        "id": "FKmXkNPXZ3p9"
      },
      "outputs": [],
      "source": [
        "import pandas as pd #package to allow manipulation of data in table form, csv, ecxel etc\n",
        "import numpy as np #for mathematical computations\n",
        "import matplotlib.pyplot as plt #for plotting visualizations\n",
        "import seaborn as sns #visualization package\n",
        "from ast import literal_eval #function in python that allows us to perform computation on a string\n",
        "from sklearn.metrics import accuracy_score, precision_score, recall_score, f1_score, confusion_matrix, ConfusionMatrixDisplay #sklearn - package for ml; its imported metrics are for evaluating ml models\n",
        "from sklearn.model_selection import train_test_split #for splitting data into train and test\n",
        "from sklearn.linear_model import LogisticRegression #model will be used to train our data\n",
        "from sklearn.preprocessing import StandardScaler, MinMaxScaler #for scaling - column of a range 0 to 1000 can be reduced to range 0 to 10 using the scalers\n",
        "from sklearn.tree import DecisionTreeClassifier #model to predict customer churn\n",
        "from tqdm import tqdm #package that allows u visualize the progress of an operation in  Python - 10 loops running can be visualized to tell how long they wull take to complete\n"
      ]
    },
    {
      "cell_type": "code",
      "source": [
        "import warnings                         # updates may have been made e.g by numpy devs. It may take time for pandas devs\n",
        "warnings.filterwarnings('ignore')       # to make updates that will match numpy updates for compatibilitys when both are in use.\n",
        "                                        # Warnings (not errors) may show to explain changes that were made. We ignore them"
      ],
      "metadata": {
        "id": "JS0osXODjQC0"
      },
      "execution_count": 2,
      "outputs": []
    },
    {
      "cell_type": "markdown",
      "source": [
        "## Data Collection"
      ],
      "metadata": {
        "id": "ZTRS9FA-5ezs"
      }
    },
    {
      "cell_type": "markdown",
      "source": [
        "Load the dataset into Python with Pandas"
      ],
      "metadata": {
        "id": "GQ80qaDc5m-D"
      }
    },
    {
      "cell_type": "code",
      "source": [
        "from google.colab import drive\n",
        "drive.mount('/content/drive')"
      ],
      "metadata": {
        "colab": {
          "base_uri": "https://localhost:8080/"
        },
        "id": "LTCvIRdRcrlK",
        "outputId": "246781f2-4212-4c4d-fabc-a3211f6b7abc"
      },
      "execution_count": 3,
      "outputs": [
        {
          "output_type": "stream",
          "name": "stdout",
          "text": [
            "Drive already mounted at /content/drive; to attempt to forcibly remount, call drive.mount(\"/content/drive\", force_remount=True).\n"
          ]
        }
      ]
    },
    {
      "cell_type": "code",
      "source": [
        "#loading the dataset to be used\n",
        "customer_df = pd.read_excel('/content/drive/MyDrive/datasets/CustomerChurn/customers_dataset.xlsx')"
      ],
      "metadata": {
        "id": "02hqDaaTYaAg"
      },
      "execution_count": 8,
      "outputs": []
    },
    {
      "cell_type": "code",
      "source": [],
      "metadata": {
        "id": "RDxqpnExhQ7l"
      },
      "execution_count": null,
      "outputs": []
    }
  ]
}