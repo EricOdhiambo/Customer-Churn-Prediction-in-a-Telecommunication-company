{
  "nbformat": 4,
  "nbformat_minor": 0,
  "metadata": {
    "colab": {
      "provenance": [],
      "authorship_tag": "ABX9TyNmL5WG6XpjuyaYXXwex6/W",
      "include_colab_link": true
    },
    "kernelspec": {
      "name": "python3",
      "display_name": "Python 3"
    },
    "language_info": {
      "name": "python"
    }
  },
  "cells": [
    {
      "cell_type": "markdown",
      "metadata": {
        "id": "view-in-github",
        "colab_type": "text"
      },
      "source": [
        "<a href=\"https://colab.research.google.com/github/EricOdhiambo/Customer-Churn-Prediction-in-a-Telecommunication-company/blob/main/customer_churn.ipynb\" target=\"_parent\"><img src=\"https://colab.research.google.com/assets/colab-badge.svg\" alt=\"Open In Colab\"/></a>"
      ]
    },
    {
      "cell_type": "markdown",
      "source": [
        "# Predict Customer Churn"
      ],
      "metadata": {
        "id": "CbjSeUD2WVNM"
      }
    },
    {
      "cell_type": "markdown",
      "source": [
        "This project is aimed at identifying customers that are susceptible to churn in order to enhance retention strategies and boost business growth."
      ],
      "metadata": {
        "id": "PqD8tPtXWjtC"
      }
    },
    {
      "cell_type": "markdown",
      "source": [
        "### Import packages and dependencies"
      ],
      "metadata": {
        "id": "AmoSwNO3HbNE"
      }
    },
    {
      "cell_type": "code",
      "execution_count": 6,
      "metadata": {
        "id": "FKmXkNPXZ3p9"
      },
      "outputs": [],
      "source": [
        "import pandas as pd #package to allow manipulation of data in table form, csv, ecxel etc\n",
        "import numpy as np #for mathematical computations\n",
        "import matplotlib.pyplot as plt #for plotting visualizations\n",
        "import seaborn as sns #visualization package\n",
        "from ast import literal_eval #function in python that allows us to perform computation on a string\n",
        "from sklearn.metrics import accuracy_score, precision_score, recall_score, f1_score, confusion_matrix, ConfusionMatrixDisplay #sklearn - package for ml; its imported metrics are for evaluating ml models\n",
        "from sklearn.model_selection import train_test_split #for splitting data into train and test\n",
        "from sklearn.linear_model import LogisticRegression #model will be used to train our data\n",
        "from sklearn.preprocessing import StandardScaler, MinMaxScaler #for scaling - column of a range 0 to 1000 can be reduced to range 0 to 10 using the scalers\n",
        "from sklearn.tree import DecisionTreeClassifier #model to predict customer churn\n",
        "from tqdm import tqdm #package that allows u visualize the progress of an operation in  Python\n"
      ]
    },
    {
      "cell_type": "code",
      "source": [
        "import warnings\n",
        "warnings.filterwarnings('ignore')"
      ],
      "metadata": {
        "id": "JS0osXODjQC0"
      },
      "execution_count": 7,
      "outputs": []
    },
    {
      "cell_type": "markdown",
      "source": [
        "## Data Collection"
      ],
      "metadata": {
        "id": "ZTRS9FA-5ezs"
      }
    },
    {
      "cell_type": "markdown",
      "source": [
        "Load the dataset into Python with Pandas"
      ],
      "metadata": {
        "id": "GQ80qaDc5m-D"
      }
    },
    {
      "cell_type": "code",
      "source": [],
      "metadata": {
        "id": "02hqDaaTYaAg"
      },
      "execution_count": null,
      "outputs": []
    }
  ]
}